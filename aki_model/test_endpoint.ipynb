{
 "cells": [
  {
   "cell_type": "code",
   "execution_count": null,
   "metadata": {},
   "outputs": [
    {
     "name": "stdout",
     "output_type": "stream",
     "text": [
      "[{\"PredictedClass\":0,\"PredictedProba\":0.148961857}]\n"
     ]
    }
   ],
   "source": [
    "import boto3\n",
    "import json\n",
    "\n",
    "#  (1) Your single‐record JSON payload; keys must match exactly your feature names:\n",
    "payload_dict = {\n",
    "    \"HCO3\": 25,\n",
    "    \"Creatinine\": 1.2,\n",
    "    \"Procalcitonin\": 0.05,\n",
    "    \"Mean Arterial Pressure\": 80.0,\n",
    "    \"Bilirubin\": 1.0,\n",
    "    \"pH\": 7.4,\n",
    "    \"Albumin\": 4.0,\n",
    "    \"Urea\": 5.0,\n",
    "    \"White Blood Cell Count\": 8.0,\n",
    "    \"SOFA\": 2,\n",
    "    \"APACHEII\": 10,\n",
    "    \"Glasgow\": 14\n",
    "}\n",
    "\n",
    "client = boto3.client(\"sagemaker-runtime\", region_name=\"ca-central-1\")\n",
    "\n",
    "response = client.invoke_endpoint(\n",
    "    EndpointName=\"sagemaker-scikit-learn-2025-06-05-21-20-27-200\",\n",
    "    ContentType=\"application/json\",   # <-- tell SageMaker to use JSON\n",
    "    Accept=\"application/json\",        # <-- ask for JSON back\n",
    "    Body=json.dumps(payload_dict)     # <-- must be a UTF‐8 string\n",
    ")\n",
    "\n",
    "result = response[\"Body\"].read().decode(\"utf-8\")\n",
    "# result is something like '[{\"PredictedClass\":0,\"PredictedProba\":0.12}]'\n",
    "print(result)\n"
   ]
  },
  {
   "cell_type": "code",
   "execution_count": null,
   "metadata": {},
   "outputs": [],
   "source": []
  }
 ],
 "metadata": {
  "kernelspec": {
   "display_name": "Python 3",
   "language": "python",
   "name": "python3"
  },
  "language_info": {
   "codemirror_mode": {
    "name": "ipython",
    "version": 3
   },
   "file_extension": ".py",
   "mimetype": "text/x-python",
   "name": "python",
   "nbconvert_exporter": "python",
   "pygments_lexer": "ipython3",
   "version": "3.12.0"
  }
 },
 "nbformat": 4,
 "nbformat_minor": 2
}
