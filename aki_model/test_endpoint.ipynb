{
 "cells": [
  {
   "cell_type": "code",
   "execution_count": 3,
   "metadata": {},
   "outputs": [
    {
     "name": "stdout",
     "output_type": "stream",
     "text": [
      "PredictedClass,PredictedProba\n",
      "0,0.00033840697\n",
      "\n"
     ]
    }
   ],
   "source": [
    "import boto3\n",
    "\n",
    "client = boto3.client(\"sagemaker-runtime\", region_name=\"ca-central-1\")\n",
    "\n",
    "payload = \"HCO3,Creatinine,Procalcitonin,Mean Arterial Pressure,Bilirubin,pH,Albumin,Urea,White Blood Cell Count,SOFA,APACHEII,Glasgow\\n\" \\\n",
    "          \"24.0,1.2,0.05,80.0,1.0,7.4,4.0,5.0,8.0,2.0,10.0,14.0\\n\"\n",
    "resp = client.invoke_endpoint(\n",
    "    EndpointName=\"sagemaker-scikit-learn-2025-06-05-16-51-05-911\",\n",
    "    ContentType=\"text/csv\",\n",
    "    Accept=\"text/csv\",\n",
    "    Body=payload\n",
    ")\n",
    "print(resp[\"Body\"].read().decode(\"utf-8\"))\n"
   ]
  },
  {
   "cell_type": "code",
   "execution_count": null,
   "metadata": {},
   "outputs": [],
   "source": []
  }
 ],
 "metadata": {
  "kernelspec": {
   "display_name": "Python 3",
   "language": "python",
   "name": "python3"
  },
  "language_info": {
   "codemirror_mode": {
    "name": "ipython",
    "version": 3
   },
   "file_extension": ".py",
   "mimetype": "text/x-python",
   "name": "python",
   "nbconvert_exporter": "python",
   "pygments_lexer": "ipython3",
   "version": "3.12.0"
  }
 },
 "nbformat": 4,
 "nbformat_minor": 2
}
